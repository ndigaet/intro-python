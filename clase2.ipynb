{
 "cells": [
  {
   "cell_type": "code",
   "execution_count": 10,
   "metadata": {},
   "outputs": [],
   "source": [
    "import numpy as np"
   ]
  },
  {
   "cell_type": "code",
   "execution_count": 11,
   "metadata": {},
   "outputs": [
    {
     "ename": "SyntaxError",
     "evalue": "invalid syntax (<ipython-input-11-bcba321b6de2>, line 1)",
     "output_type": "error",
     "traceback": [
      "\u001b[1;36m  File \u001b[1;32m\"<ipython-input-11-bcba321b6de2>\"\u001b[1;36m, line \u001b[1;32m1\u001b[0m\n\u001b[1;33m    np.random.normal(0, 1 100)\u001b[0m\n\u001b[1;37m                          ^\u001b[0m\n\u001b[1;31mSyntaxError\u001b[0m\u001b[1;31m:\u001b[0m invalid syntax\n"
     ]
    }
   ],
   "source": [
    "np.random.normal(0, 1 100)"
   ]
  },
  {
   "cell_type": "code",
   "execution_count": 12,
   "metadata": {},
   "outputs": [],
   "source": [
    "lista_1 = [1, 2, 3, 4]\n",
    "lista_2 = [3, 2, 1, 5]"
   ]
  },
  {
   "cell_type": "code",
   "execution_count": 16,
   "metadata": {},
   "outputs": [],
   "source": [
    "array_1 = np.array([1, 2, 3, 4])\n",
    "array_2 = np.array([3, 2, 1, 5])"
   ]
  },
  {
   "cell_type": "code",
   "execution_count": 14,
   "metadata": {},
   "outputs": [
    {
     "data": {
      "text/plain": [
       "(4,)"
      ]
     },
     "execution_count": 14,
     "metadata": {},
     "output_type": "execute_result"
    }
   ],
   "source": [
    "array_1.shape"
   ]
  },
  {
   "cell_type": "code",
   "execution_count": 15,
   "metadata": {},
   "outputs": [
    {
     "data": {
      "text/plain": [
       "[1, 2, 3, 4, 1, 2, 3, 4]"
      ]
     },
     "execution_count": 15,
     "metadata": {},
     "output_type": "execute_result"
    }
   ],
   "source": [
    "lista_1 + lista_1"
   ]
  },
  {
   "cell_type": "code",
   "execution_count": 6,
   "metadata": {},
   "outputs": [],
   "source": [
    "matriz_1 = np.array([\n",
    "    [1, 2, 3, 4],\n",
    "    [3, 2, 1, 5]\n",
    "])"
   ]
  },
  {
   "cell_type": "code",
   "execution_count": 17,
   "metadata": {},
   "outputs": [
    {
     "data": {
      "text/plain": [
       "(2, 4)"
      ]
     },
     "execution_count": 17,
     "metadata": {},
     "output_type": "execute_result"
    }
   ],
   "source": [
    "matriz_1.shape"
   ]
  },
  {
   "cell_type": "code",
   "execution_count": 8,
   "metadata": {},
   "outputs": [
    {
     "data": {
      "text/plain": [
       "array([[1, 3],\n",
       "       [2, 2],\n",
       "       [3, 1],\n",
       "       [4, 5]])"
      ]
     },
     "execution_count": 8,
     "metadata": {},
     "output_type": "execute_result"
    }
   ],
   "source": [
    "matriz_1.T"
   ]
  },
  {
   "cell_type": "code",
   "execution_count": 25,
   "metadata": {},
   "outputs": [],
   "source": [
    "from matplotlib import pyplot as plt"
   ]
  },
  {
   "cell_type": "code",
   "execution_count": 19,
   "metadata": {},
   "outputs": [],
   "source": [
    "X = np.random.normal(0, 1, 200)\n",
    "Y = np.random.normal(0, 1, 200)"
   ]
  },
  {
   "cell_type": "code",
   "execution_count": 20,
   "metadata": {},
   "outputs": [
    {
     "data": {
      "text/plain": [
       "numpy.ndarray"
      ]
     },
     "execution_count": 20,
     "metadata": {},
     "output_type": "execute_result"
    }
   ],
   "source": [
    "type(X)"
   ]
  },
  {
   "cell_type": "code",
   "execution_count": 21,
   "metadata": {},
   "outputs": [
    {
     "data": {
      "text/plain": [
       "array([-1.07925135e+00,  1.10364024e+00,  2.14211043e+00, -1.30820261e+00,\n",
       "        1.71085728e+00, -7.90468704e-01,  8.58301121e-01,  2.28641242e+00,\n",
       "        8.58052468e-01,  3.13260911e+00,  1.60309823e+00,  3.46078738e-01,\n",
       "       -1.32360459e+00, -1.71294288e+00, -8.00637016e-01, -2.04724877e+00,\n",
       "       -1.75588026e-01,  1.17149991e+00,  7.94051299e-01,  3.06123023e+00,\n",
       "       -3.71770235e-01,  5.60339392e-01,  6.39591746e-01, -3.01667219e-01,\n",
       "        5.51231599e-01,  2.93433286e-01, -2.80587449e+00,  7.72430859e-01,\n",
       "       -4.00924961e-01, -1.37493665e+00,  4.94284945e-01,  7.98924626e-01,\n",
       "       -6.33763913e-01, -2.20711349e+00,  1.11457058e+00,  1.74948212e+00,\n",
       "        3.66345190e-01,  3.93804352e-01, -1.14683992e+00, -5.42077878e-01,\n",
       "       -2.06235902e+00,  4.22024382e-01,  1.61425507e+00, -6.52312000e-01,\n",
       "        7.97263242e-01,  1.10497208e+00, -1.95659632e+00,  4.54085789e-01,\n",
       "        1.09933350e+00, -2.34788033e+00, -1.39002105e+00, -1.38170431e+00,\n",
       "        8.59642706e-01,  2.40698890e-02, -7.98488309e-01, -1.26626475e+00,\n",
       "       -5.22073021e-02,  1.36738518e+00,  2.35328347e-01,  1.32032941e+00,\n",
       "        8.11964742e-01, -1.05228022e+00,  4.35444283e-01,  1.63170393e+00,\n",
       "       -4.39756860e-02,  1.49018641e+00,  2.67256092e+00,  1.27328864e+00,\n",
       "        7.08576332e-01,  4.78952062e-01, -2.57961589e+00,  6.65636492e-01,\n",
       "       -3.42837313e-01, -7.00877128e-02, -1.46087292e-01,  1.74344715e+00,\n",
       "       -8.45903283e-01, -1.12364635e+00, -5.04158090e-01, -1.87187873e+00,\n",
       "       -2.26692707e+00, -1.81068258e+00,  3.45100329e-01, -2.21074041e+00,\n",
       "        1.88908107e+00, -4.93967983e-01, -3.82275477e-01,  1.43499687e+00,\n",
       "        2.14203983e+00, -4.82168438e-01,  8.24313179e-01, -1.83228696e+00,\n",
       "        1.31437798e+00,  1.99119558e+00,  8.92462251e-01, -4.40250766e-01,\n",
       "       -3.57143048e-01, -3.24966108e-01, -1.40145824e+00,  2.63504250e-02,\n",
       "        2.51195143e-01,  3.02908989e-01, -2.00408475e+00, -1.89152769e+00,\n",
       "       -2.81610371e-01, -1.67770434e+00,  7.17712592e-01,  8.26658530e-01,\n",
       "        1.57432066e+00, -4.89467190e-01,  1.72047424e+00, -2.10005777e+00,\n",
       "       -1.02256348e+00, -2.90507272e-01,  9.89760817e-02,  1.62669094e+00,\n",
       "       -1.99741138e+00,  2.52941168e+00,  5.80377889e-02,  2.03775153e+00,\n",
       "        3.57842972e-01,  2.05793736e+00,  7.10285454e-01,  1.65381594e+00,\n",
       "        2.20848932e+00,  4.95113477e-01,  8.05976759e-01, -2.25649887e+00,\n",
       "       -1.15942388e+00, -3.13630760e-01, -1.20196198e+00,  1.75264388e+00,\n",
       "        2.78591610e+00,  6.07754087e-01, -6.02287132e-01,  3.04239618e+00,\n",
       "       -4.11430344e-01, -1.44053433e+00,  1.48972664e+00,  1.78833117e+00,\n",
       "        2.27351033e+00, -4.67743659e-01, -1.63737195e-01, -1.10203815e+00,\n",
       "        1.92299185e+00, -4.17466042e-01,  2.81382843e-01, -7.53319760e-01,\n",
       "       -6.49281713e-01, -2.59153306e-01, -1.11534463e+00, -5.12094598e-01,\n",
       "       -2.58044441e+00, -1.49231702e+00,  6.37217520e-01,  1.02571165e+00,\n",
       "        1.26447141e+00,  2.70715407e-03,  3.85719982e-01,  1.22063978e+00,\n",
       "       -2.78058407e+00,  1.73008684e+00,  1.05007063e+00, -1.38428863e+00,\n",
       "       -2.89923525e-01,  7.65313678e-01, -7.67066348e-01, -3.28126276e-03,\n",
       "        2.19107163e-01, -1.44031643e+00, -1.41979787e+00,  1.39162039e+00,\n",
       "        1.55531206e+00, -2.57267274e-01, -2.37044309e-02,  1.47395597e+00,\n",
       "       -8.81523676e-01, -5.64980774e-01, -1.17395172e+00,  4.28408811e-01,\n",
       "       -6.28059261e-01, -7.58959176e-01,  5.93003345e-01,  2.48848504e-01,\n",
       "       -1.85600186e-01,  2.12017697e-02, -3.44660148e-01,  2.40663429e+00,\n",
       "       -3.38499454e-01, -9.58537155e-01,  1.86666689e+00,  2.12874155e+00,\n",
       "       -7.55571265e-01,  6.44126695e-01, -5.85032334e-01, -1.86282433e+00,\n",
       "       -9.57760771e-01,  4.82444563e-01,  1.27958508e+00, -9.53271412e-01])"
      ]
     },
     "execution_count": 21,
     "metadata": {},
     "output_type": "execute_result"
    }
   ],
   "source": [
    "X + Y"
   ]
  },
  {
   "cell_type": "code",
   "execution_count": 29,
   "metadata": {},
   "outputs": [
    {
     "data": {
      "text/plain": [
       "Text(0.5, 1.0, 'X e Y')"
      ]
     },
     "execution_count": 29,
     "metadata": {},
     "output_type": "execute_result"
    },
    {
     "data": {
      "image/png": "[encoded data removed]",
      "text/plain": [
       "<Figure size 1440x360 with 1 Axes>"
      ]
     },
     "metadata": {
      "needs_background": "light"
     },
     "output_type": "display_data"
    }
   ],
   "source": [
    "plt.figure(figsize=(20, 5))\n",
    "plt.scatter(X, Y)\n",
    "plt.title('X e Y')"
   ]
  },
  {
   "cell_type": "code",
   "execution_count": 32,
   "metadata": {},
   "outputs": [],
   "source": [
    "t = np.linspace(0, 10, 100)\n",
    "x = t**2"
   ]
  },
  {
   "cell_type": "code",
   "execution_count": 33,
   "metadata": {},
   "outputs": [
    {
     "data": {
      "text/plain": [
       "[<matplotlib.lines.Line2D at 0x11cc9c1f070>]"
      ]
     },
     "execution_count": 33,
     "metadata": {},
     "output_type": "execute_result"
    },
    {
     "data": {
      "image/png": "[encoded data removed]",
      "text/plain": [
       "<Figure size 432x288 with 1 Axes>"
      ]
     },
     "metadata": {
      "needs_background": "light"
     },
     "output_type": "display_data"
    }
   ],
   "source": [
    "plt.plot(t, x)"
   ]
  },
  {
   "cell_type": "code",
   "execution_count": 35,
   "metadata": {},
   "outputs": [
    {
     "data": {
      "text/plain": [
       "(array([ 1.,  2.,  3.,  2.,  3.,  1.,  4.,  5.,  2.,  3.,  2.,  4.,  4.,\n",
       "         7.,  6.,  4.,  6.,  5.,  7.,  8.,  5.,  6.,  6., 10.,  5.,  7.,\n",
       "        10.,  6.,  9.,  7.,  5.,  4.,  4.,  5.,  5.,  1.,  5.,  2.,  3.,\n",
       "         3.,  2.,  1.,  1.,  1.,  2.,  0.,  1.,  2.,  1.,  2.]),\n",
       " array([-2.10239866, -2.01003677, -1.91767488, -1.82531299, -1.7329511 ,\n",
       "        -1.64058921, -1.54822731, -1.45586542, -1.36350353, -1.27114164,\n",
       "        -1.17877975, -1.08641786, -0.99405597, -0.90169407, -0.80933218,\n",
       "        -0.71697029, -0.6246084 , -0.53224651, -0.43988462, -0.34752273,\n",
       "        -0.25516084, -0.16279894, -0.07043705,  0.02192484,  0.11428673,\n",
       "         0.20664862,  0.29901051,  0.3913724 ,  0.48373429,  0.57609619,\n",
       "         0.66845808,  0.76081997,  0.85318186,  0.94554375,  1.03790564,\n",
       "         1.13026753,  1.22262942,  1.31499132,  1.40735321,  1.4997151 ,\n",
       "         1.59207699,  1.68443888,  1.77680077,  1.86916266,  1.96152455,\n",
       "         2.05388645,  2.14624834,  2.23861023,  2.33097212,  2.42333401,\n",
       "         2.5156959 ]),\n",
       " <BarContainer object of 50 artists>)"
      ]
     },
     "execution_count": 35,
     "metadata": {},
     "output_type": "execute_result"
    },
    {
     "data": {
      "image/png": "[encoded data removed]",
      "text/plain": [
       "<Figure size 432x288 with 1 Axes>"
      ]
     },
     "metadata": {
      "needs_background": "light"
     },
     "output_type": "display_data"
    }
   ],
   "source": [
    "plt.hist(X, bins=50)"
   ]
  },
  {
   "cell_type": "code",
   "execution_count": 40,
   "metadata": {},
   "outputs": [],
   "source": [
    "X1 = X[:10].copy()  #crea una copia"
   ]
  },
  {
   "cell_type": "code",
   "execution_count": 39,
   "metadata": {},
   "outputs": [
    {
     "data": {
      "text/plain": [
       "array([-1.43186371,  0.24070021,  0.07387272, -1.44754453,  0.29281336,\n",
       "        1.62073302,  1.10178325,  0.2073456 ,  0.86467971,  1.10733317])"
      ]
     },
     "execution_count": 39,
     "metadata": {},
     "output_type": "execute_result"
    }
   ],
   "source": [
    "X1"
   ]
  },
  {
   "cell_type": "code",
   "execution_count": 41,
   "metadata": {},
   "outputs": [],
   "source": [
    "X.sort() # ordena el vector X dentro de X, el sort no tiene salida\n",
    "X_sorted = X.sort() # X_sorted no tiene valor, porque el sort no tiene salida"
   ]
  },
  {
   "cell_type": "code",
   "execution_count": null,
   "metadata": {},
   "outputs": [],
   "source": []
  }
 ],
 "metadata": {
  "kernelspec": {
   "display_name": "Python 3",
   "language": "python",
   "name": "python3"
  },
  "language_info": {
   "codemirror_mode": {
    "name": "ipython",
    "version": 3
   },
   "file_extension": ".py",
   "mimetype": "text/x-python",
   "name": "python",
   "nbconvert_exporter": "python",
   "pygments_lexer": "ipython3",
   "version": "3.8.5"
  }
 },
 "nbformat": 4,
 "nbformat_minor": 4
}
